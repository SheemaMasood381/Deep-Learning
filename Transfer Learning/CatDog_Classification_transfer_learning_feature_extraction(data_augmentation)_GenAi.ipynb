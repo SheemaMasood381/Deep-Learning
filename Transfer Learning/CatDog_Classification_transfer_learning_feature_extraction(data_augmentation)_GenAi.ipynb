{
  "nbformat": 4,
  "nbformat_minor": 0,
  "metadata": {
    "colab": {
      "provenance": []
    },
    "kernelspec": {
      "name": "python3",
      "display_name": "Python 3"
    },
    "language_info": {
      "name": "python"
    },
    "accelerator": "GPU"
  },
  "cells": [
    {
      "cell_type": "markdown",
      "source": [
        "# Transfer learning with Data Augmentation\n",
        "\n",
        "This notebook focuses on building a deep learning model to classify images of cats and dogs. The dataset used consists of labeled images of cats and dogs, and the goal is to train a Convolutional Neural Network (CNN) to accurately distinguish between the two classes. The notebook is structured into several sections, each addressing a specific part of the machine learning workflow.\n",
        "\n",
        "\n",
        "## Key Takeaways\n",
        "\n",
        "- The notebook provides a step-by-step guide to building and training a CNN model for binary image classification (cats vs. dogs).\n",
        "- It emphasizes the importance of data preprocessing, data augmentation, and model architecture design in achieving good performance.\n",
        "- The use of visualization techniques and callbacks enhances the understanding of the training process and model performance."
      ],
      "metadata": {
        "id": "RbwjJobptcWi"
      }
    },
    {
      "cell_type": "code",
      "execution_count": null,
      "metadata": {
        "id": "-VmS75-_WITF"
      },
      "outputs": [],
      "source": [
        "!mkdir -p ~/.kaggle\n",
        "!cp kaggle.json ~/.kaggle/"
      ]
    },
    {
      "cell_type": "code",
      "source": [
        "!kaggle datasets download -d salader/dogs-vs-cats"
      ],
      "metadata": {
        "colab": {
          "base_uri": "https://localhost:8080/"
        },
        "id": "V4bTGYIrWZsR",
        "outputId": "cb272eea-1514-4fdc-8dae-4b62022a4319"
      },
      "execution_count": null,
      "outputs": [
        {
          "output_type": "stream",
          "name": "stdout",
          "text": [
            "Warning: Your Kaggle API key is readable by other users on this system! To fix this, you can run 'chmod 600 /root/.kaggle/kaggle.json'\n",
            "Dataset URL: https://www.kaggle.com/datasets/salader/dogs-vs-cats\n",
            "License(s): unknown\n",
            "Downloading dogs-vs-cats.zip to /content\n",
            "100% 1.06G/1.06G [00:08<00:00, 212MB/s]\n",
            "100% 1.06G/1.06G [00:08<00:00, 143MB/s]\n"
          ]
        }
      ]
    },
    {
      "cell_type": "code",
      "source": [
        "import zipfile\n",
        "zip_ref = zipfile.ZipFile('/content/dogs-vs-cats.zip', 'r')\n",
        "zip_ref.extractall('/content')\n",
        "zip_ref.close()"
      ],
      "metadata": {
        "id": "pBiusQLdWc1Z"
      },
      "execution_count": null,
      "outputs": []
    },
    {
      "cell_type": "code",
      "source": [
        "import tensorflow\n",
        "from tensorflow import keras\n",
        "from keras import Sequential\n",
        "from keras.layers import Dense,Flatten\n",
        "from keras.applications.vgg16 import VGG16\n",
        "from tensorflow.keras.callbacks import ReduceLROnPlateau, EarlyStopping, ModelCheckpoint"
      ],
      "metadata": {
        "id": "F3T2PWpSWhNA"
      },
      "execution_count": null,
      "outputs": []
    },
    {
      "source": [
        "from tensorflow.keras.preprocessing.image import ImageDataGenerator, array_to_img, img_to_array, load_img"
      ],
      "cell_type": "code",
      "metadata": {
        "id": "8g096Mh1q6gt"
      },
      "execution_count": null,
      "outputs": []
    },
    {
      "cell_type": "markdown",
      "source": [
        "# Model Description\n",
        "\n",
        "The model is built using **Transfer Learning** with the **VGG16** architecture as its base. The VGG16 model is pre-trained on the ImageNet dataset, and its convolutional layers are used as a feature extractor. On top of this, custom layers are added to adapt the model for the binary classification task (cats vs. dogs).\n",
        "\n",
        "## Model Architecture\n",
        "\n",
        "1. **VGG16 Base (Convolutional Base)**:\n",
        "   - The `conv_base` is an instance of the VGG16 model with the following configurations:\n",
        "     - `weights='imagenet'`: Loads pre-trained weights from the ImageNet dataset.\n",
        "     - `include_top=False`: Excludes the fully connected layers at the top of the VGG16 model.\n",
        "     - `input_shape=(150, 150, 3)`: Specifies the input image size as 150x150 pixels with 3 color channels (RGB).\n",
        "\n",
        "2. **Custom Layers**:\n",
        "   - **Flatten Layer**:\n",
        "     - Flattens the output from the VGG16 base into a 1D vector to prepare it for fully connected layers.\n",
        "   - **Dense Layer (256 units, ReLU activation)**:\n",
        "     - A fully connected layer with 256 units and ReLU activation to learn complex patterns from the extracted features.\n",
        "   - **Output Layer (1 unit, Sigmoid activation)**:\n",
        "     - A single-unit dense layer with a sigmoid activation function for binary classification (cat or dog).\n"
      ],
      "metadata": {
        "id": "LK17OjsUuNDl"
      }
    },
    {
      "cell_type": "markdown",
      "source": [],
      "metadata": {
        "id": "BzXspgwduUop"
      }
    },
    {
      "cell_type": "code",
      "source": [
        "conv_base = VGG16(\n",
        "    weights='imagenet',\n",
        "    include_top = False,\n",
        "    input_shape=(150,150,3)\n",
        ")"
      ],
      "metadata": {
        "colab": {
          "base_uri": "https://localhost:8080/"
        },
        "id": "SAzWn-kaWjzg",
        "outputId": "68289e6c-8b4f-4ace-834b-c30af1036ac1"
      },
      "execution_count": null,
      "outputs": [
        {
          "output_type": "stream",
          "name": "stdout",
          "text": [
            "Downloading data from https://storage.googleapis.com/tensorflow/keras-applications/vgg16/vgg16_weights_tf_dim_ordering_tf_kernels_notop.h5\n",
            "\u001b[1m58889256/58889256\u001b[0m \u001b[32m━━━━━━━━━━━━━━━━━━━━\u001b[0m\u001b[37m\u001b[0m \u001b[1m0s\u001b[0m 0us/step\n"
          ]
        }
      ]
    },
    {
      "cell_type": "code",
      "source": [
        "model = Sequential()\n",
        "\n",
        "model.add(conv_base)\n",
        "model.add(Flatten())\n",
        "model.add(Dense(256,activation='relu'))\n",
        "model.add(Dense(1,activation='sigmoid'))"
      ],
      "metadata": {
        "id": "E7tu6Vl4WmhF"
      },
      "execution_count": null,
      "outputs": []
    },
    {
      "cell_type": "code",
      "source": [
        "conv_base.trainable = False"
      ],
      "metadata": {
        "id": "YgUJbE_YWpuD"
      },
      "execution_count": null,
      "outputs": []
    },
    {
      "cell_type": "markdown",
      "source": [
        "## **Loading and Preprocessing Data**:  **DATA AUGMENTATION**\n",
        "- The dataset containing cat and dog images is loaded and preprocessed. This includes resizing the images to a consistent dimension, normalizing pixel values, and splitting the data into training and validation sets. Data augmentation techniques (e.g., rotation, flipping, zooming) are also applied to improve the model's generalization."
      ],
      "metadata": {
        "id": "yjPEjKIuuGuu"
      }
    },
    {
      "cell_type": "code",
      "source": [
        "batch_size = 32\n",
        "\n",
        "train_datagen = ImageDataGenerator(\n",
        "        rescale=1./255,\n",
        "        shear_range=0.2,\n",
        "        zoom_range=0.2,\n",
        "        horizontal_flip=True)\n",
        "\n",
        "test_datagen = ImageDataGenerator(rescale=1./255)\n",
        "\n",
        "train_generator = train_datagen.flow_from_directory(\n",
        "        '/content/train',\n",
        "        target_size=(150, 150),\n",
        "        batch_size=batch_size,\n",
        "        class_mode='binary')\n",
        "\n",
        "validation_generator = test_datagen.flow_from_directory(\n",
        "        '/content/test',\n",
        "        target_size=(150, 150),\n",
        "        batch_size=batch_size,\n",
        "        class_mode='binary')"
      ],
      "metadata": {
        "colab": {
          "base_uri": "https://localhost:8080/"
        },
        "id": "YKsNsIeDWsKF",
        "outputId": "4bfb832b-da5b-430b-f4e5-974315f50ed6"
      },
      "execution_count": null,
      "outputs": [
        {
          "output_type": "stream",
          "name": "stdout",
          "text": [
            "Found 20000 images belonging to 2 classes.\n",
            "Found 5000 images belonging to 2 classes.\n"
          ]
        }
      ]
    },
    {
      "cell_type": "code",
      "source": [
        "# Learning rate scheduler and early stopping\n",
        "lr_scheduler = ReduceLROnPlateau(monitor='val_accuracy', factor=0.5, patience=3, verbose=1)\n",
        "early_stopping = EarlyStopping(monitor='val_loss', patience=5, restore_best_weights=True)\n",
        "checkpoint = ModelCheckpoint('best_model.keras', monitor='val_accuracy', save_best_only=True, verbose=1)"
      ],
      "metadata": {
        "id": "Xt7Oh0adc-AW"
      },
      "execution_count": null,
      "outputs": []
    },
    {
      "cell_type": "code",
      "source": [
        "model.compile(optimizer='adam',loss='binary_crossentropy',metrics=['accuracy'])"
      ],
      "metadata": {
        "id": "hiMjQzqGXRQn"
      },
      "execution_count": null,
      "outputs": []
    },
    {
      "cell_type": "code",
      "source": [
        "history = model.fit(train_generator,\n",
        "                    epochs=100,batch_size=32,validation_data=validation_generator,\n",
        "                    callbacks=[lr_scheduler, early_stopping, checkpoint])"
      ],
      "metadata": {
        "colab": {
          "base_uri": "https://localhost:8080/"
        },
        "id": "DVmBHqshdBte",
        "outputId": "93bf98fd-6bd4-4508-83bf-0c8d04edf61f"
      },
      "execution_count": null,
      "outputs": [
        {
          "output_type": "stream",
          "name": "stdout",
          "text": [
            "Epoch 1/100\n"
          ]
        },
        {
          "output_type": "stream",
          "name": "stderr",
          "text": [
            "/usr/local/lib/python3.11/dist-packages/keras/src/trainers/data_adapters/py_dataset_adapter.py:122: UserWarning: Your `PyDataset` class should call `super().__init__(**kwargs)` in its constructor. `**kwargs` can include `workers`, `use_multiprocessing`, `max_queue_size`. Do not pass these arguments to `fit()`, as they will be ignored.\n",
            "  self._warn_if_super_not_called()\n"
          ]
        },
        {
          "output_type": "stream",
          "name": "stdout",
          "text": [
            "\u001b[1m625/625\u001b[0m \u001b[32m━━━━━━━━━━━━━━━━━━━━\u001b[0m\u001b[37m\u001b[0m \u001b[1m0s\u001b[0m 215ms/step - accuracy: 0.8273 - loss: 0.4333\n",
            "Epoch 1: val_accuracy improved from -inf to 0.91000, saving model to best_model.keras\n",
            "\u001b[1m625/625\u001b[0m \u001b[32m━━━━━━━━━━━━━━━━━━━━\u001b[0m\u001b[37m\u001b[0m \u001b[1m161s\u001b[0m 239ms/step - accuracy: 0.8274 - loss: 0.4331 - val_accuracy: 0.9100 - val_loss: 0.2129 - learning_rate: 0.0010\n",
            "Epoch 2/100\n",
            "\u001b[1m625/625\u001b[0m \u001b[32m━━━━━━━━━━━━━━━━━━━━\u001b[0m\u001b[37m\u001b[0m \u001b[1m0s\u001b[0m 214ms/step - accuracy: 0.8940 - loss: 0.2459\n",
            "Epoch 2: val_accuracy did not improve from 0.91000\n",
            "\u001b[1m625/625\u001b[0m \u001b[32m━━━━━━━━━━━━━━━━━━━━\u001b[0m\u001b[37m\u001b[0m \u001b[1m146s\u001b[0m 231ms/step - accuracy: 0.8940 - loss: 0.2459 - val_accuracy: 0.9028 - val_loss: 0.2237 - learning_rate: 0.0010\n",
            "Epoch 3/100\n",
            "\u001b[1m625/625\u001b[0m \u001b[32m━━━━━━━━━━━━━━━━━━━━\u001b[0m\u001b[37m\u001b[0m \u001b[1m0s\u001b[0m 212ms/step - accuracy: 0.9024 - loss: 0.2301\n",
            "Epoch 3: val_accuracy improved from 0.91000 to 0.91420, saving model to best_model.keras\n",
            "\u001b[1m625/625\u001b[0m \u001b[32m━━━━━━━━━━━━━━━━━━━━\u001b[0m\u001b[37m\u001b[0m \u001b[1m146s\u001b[0m 231ms/step - accuracy: 0.9025 - loss: 0.2301 - val_accuracy: 0.9142 - val_loss: 0.2008 - learning_rate: 0.0010\n",
            "Epoch 4/100\n",
            "\u001b[1m625/625\u001b[0m \u001b[32m━━━━━━━━━━━━━━━━━━━━\u001b[0m\u001b[37m\u001b[0m \u001b[1m0s\u001b[0m 222ms/step - accuracy: 0.9129 - loss: 0.2068\n",
            "Epoch 4: val_accuracy did not improve from 0.91420\n",
            "\u001b[1m625/625\u001b[0m \u001b[32m━━━━━━━━━━━━━━━━━━━━\u001b[0m\u001b[37m\u001b[0m \u001b[1m217s\u001b[0m 255ms/step - accuracy: 0.9129 - loss: 0.2068 - val_accuracy: 0.9096 - val_loss: 0.2076 - learning_rate: 0.0010\n",
            "Epoch 5/100\n",
            "\u001b[1m625/625\u001b[0m \u001b[32m━━━━━━━━━━━━━━━━━━━━\u001b[0m\u001b[37m\u001b[0m \u001b[1m0s\u001b[0m 214ms/step - accuracy: 0.9135 - loss: 0.1992\n",
            "Epoch 5: val_accuracy improved from 0.91420 to 0.91860, saving model to best_model.keras\n",
            "\u001b[1m625/625\u001b[0m \u001b[32m━━━━━━━━━━━━━━━━━━━━\u001b[0m\u001b[37m\u001b[0m \u001b[1m188s\u001b[0m 233ms/step - accuracy: 0.9135 - loss: 0.1992 - val_accuracy: 0.9186 - val_loss: 0.1898 - learning_rate: 0.0010\n",
            "Epoch 6/100\n",
            "\u001b[1m625/625\u001b[0m \u001b[32m━━━━━━━━━━━━━━━━━━━━\u001b[0m\u001b[37m\u001b[0m \u001b[1m0s\u001b[0m 214ms/step - accuracy: 0.9186 - loss: 0.1919\n",
            "Epoch 6: val_accuracy improved from 0.91860 to 0.91940, saving model to best_model.keras\n",
            "\u001b[1m625/625\u001b[0m \u001b[32m━━━━━━━━━━━━━━━━━━━━\u001b[0m\u001b[37m\u001b[0m \u001b[1m202s\u001b[0m 233ms/step - accuracy: 0.9186 - loss: 0.1919 - val_accuracy: 0.9194 - val_loss: 0.1930 - learning_rate: 0.0010\n",
            "Epoch 7/100\n",
            "\u001b[1m625/625\u001b[0m \u001b[32m━━━━━━━━━━━━━━━━━━━━\u001b[0m\u001b[37m\u001b[0m \u001b[1m0s\u001b[0m 214ms/step - accuracy: 0.9244 - loss: 0.1751\n",
            "Epoch 7: val_accuracy did not improve from 0.91940\n",
            "\u001b[1m625/625\u001b[0m \u001b[32m━━━━━━━━━━━━━━━━━━━━\u001b[0m\u001b[37m\u001b[0m \u001b[1m201s\u001b[0m 232ms/step - accuracy: 0.9244 - loss: 0.1751 - val_accuracy: 0.9184 - val_loss: 0.1904 - learning_rate: 0.0010\n",
            "Epoch 8/100\n",
            "\u001b[1m625/625\u001b[0m \u001b[32m━━━━━━━━━━━━━━━━━━━━\u001b[0m\u001b[37m\u001b[0m \u001b[1m0s\u001b[0m 215ms/step - accuracy: 0.9311 - loss: 0.1686\n",
            "Epoch 8: val_accuracy did not improve from 0.91940\n",
            "\u001b[1m625/625\u001b[0m \u001b[32m━━━━━━━━━━━━━━━━━━━━\u001b[0m\u001b[37m\u001b[0m \u001b[1m203s\u001b[0m 233ms/step - accuracy: 0.9311 - loss: 0.1686 - val_accuracy: 0.9186 - val_loss: 0.2031 - learning_rate: 0.0010\n",
            "Epoch 9/100\n",
            "\u001b[1m625/625\u001b[0m \u001b[32m━━━━━━━━━━━━━━━━━━━━\u001b[0m\u001b[37m\u001b[0m \u001b[1m0s\u001b[0m 214ms/step - accuracy: 0.9307 - loss: 0.1647\n",
            "Epoch 9: ReduceLROnPlateau reducing learning rate to 0.0005000000237487257.\n",
            "\n",
            "Epoch 9: val_accuracy did not improve from 0.91940\n",
            "\u001b[1m625/625\u001b[0m \u001b[32m━━━━━━━━━━━━━━━━━━━━\u001b[0m\u001b[37m\u001b[0m \u001b[1m201s\u001b[0m 232ms/step - accuracy: 0.9307 - loss: 0.1647 - val_accuracy: 0.9180 - val_loss: 0.1976 - learning_rate: 0.0010\n",
            "Epoch 10/100\n",
            "\u001b[1m625/625\u001b[0m \u001b[32m━━━━━━━━━━━━━━━━━━━━\u001b[0m\u001b[37m\u001b[0m \u001b[1m0s\u001b[0m 214ms/step - accuracy: 0.9419 - loss: 0.1426\n",
            "Epoch 10: val_accuracy did not improve from 0.91940\n",
            "\u001b[1m625/625\u001b[0m \u001b[32m━━━━━━━━━━━━━━━━━━━━\u001b[0m\u001b[37m\u001b[0m \u001b[1m212s\u001b[0m 247ms/step - accuracy: 0.9419 - loss: 0.1426 - val_accuracy: 0.9174 - val_loss: 0.1927 - learning_rate: 5.0000e-04\n"
          ]
        }
      ]
    },
    {
      "cell_type": "code",
      "source": [
        "import matplotlib.pyplot as plt\n",
        "\n",
        "# Function to plot training history\n",
        "def plot_training_history(history):\n",
        "    fig, axs = plt.subplots(1, 2, figsize=(10, 3))\n",
        "\n",
        "    # Plot training & validation loss\n",
        "    axs[0].plot(history.history['loss'], label='Training Loss')\n",
        "    axs[0].plot(history.history['val_loss'], label='Validation Loss')\n",
        "    axs[0].set_title('Training and Validation Loss')\n",
        "    axs[0].set_xlabel('Epochs')\n",
        "    axs[0].set_ylabel('Loss')\n",
        "    axs[0].legend()\n",
        "\n",
        "    # Plot training & validation accuracy\n",
        "    axs[1].plot(history.history['accuracy'], label='Training Accuracy')\n",
        "    axs[1].plot(history.history['val_accuracy'], label='Validation Accuracy')\n",
        "    axs[1].set_title('Training and Validation Accuracy')\n",
        "    axs[1].set_xlabel('Epochs')\n",
        "    axs[1].set_ylabel('Accuracy')\n",
        "    axs[1].legend()\n",
        "\n",
        "    plt.show()\n",
        "\n",
        "# Call the function to plot the history\n",
        "plot_training_history(history)"
      ],
      "metadata": {
        "colab": {
          "base_uri": "https://localhost:8080/",
          "height": 333
        },
        "id": "oMHg3DYgXiSf",
        "outputId": "9f95c6ad-1bca-4ae1-845f-d9451eca35bb"
      },
      "execution_count": null,
      "outputs": [
        {
          "output_type": "display_data",
          "data": {
            "text/plain": [
              "<Figure size 1000x300 with 2 Axes>"
            ],
            "image/png": "[encoded data removed]"
          },
          "metadata": {}
        }
      ]
    },
    {
      "cell_type": "markdown",
      "source": [
        "## MOdel EValuation **Accuracy**"
      ],
      "metadata": {
        "id": "bTaCVC5YviQV"
      }
    },
    {
      "source": [
        "# Evaluate the model on the test data\n",
        "test_loss, test_accuracy = model.evaluate(validation_generator, verbose=1) # Use validation_generator\n",
        "\n",
        "print(f\"Test Accuracy: {test_accuracy * 100:.2f}%\")\n",
        "print(f\"Test Loss: {test_loss:.4f}\")"
      ],
      "cell_type": "code",
      "metadata": {
        "id": "nt_l19eAyLTP",
        "outputId": "bf97ca54-8a41-4569-af91-6fa72aae2b9e",
        "colab": {
          "base_uri": "https://localhost:8080/"
        }
      },
      "execution_count": null,
      "outputs": [
        {
          "output_type": "stream",
          "name": "stdout",
          "text": [
            "\u001b[1m157/157\u001b[0m \u001b[32m━━━━━━━━━━━━━━━━━━━━\u001b[0m\u001b[37m\u001b[0m \u001b[1m11s\u001b[0m 71ms/step - accuracy: 0.9201 - loss: 0.1867\n",
            "Test Accuracy: 91.86%\n",
            "Test Loss: 0.1898\n"
          ]
        }
      ]
    },
    {
      "cell_type": "markdown",
      "source": [
        "----------"
      ],
      "metadata": {
        "id": "J1i_Meb5yO9l"
      }
    },
    {
      "cell_type": "code",
      "source": [],
      "metadata": {
        "id": "ofaBW_yNyFYw"
      },
      "execution_count": null,
      "outputs": []
    }
  ]
}